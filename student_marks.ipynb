{
 "cells": [
  {
   "cell_type": "markdown",
   "id": "acee2bdf-937e-4c86-818e-1af0f9405331",
   "metadata": {},
   "source": [
    "### Add a student"
   ]
  },
  {
   "cell_type": "code",
   "execution_count": 12,
   "id": "469b1a1c-e3c9-4a36-9788-83fe3e9f5492",
   "metadata": {},
   "outputs": [],
   "source": [
    "def add_student(students, next_id):\n",
    "    name = input(\"Enter student's name: \")\n",
    "    try:\n",
    "        marks = int(input(\"Enter marks: \"))\n",
    "    except ValueError:\n",
    "        print(\"Invalid input for marks. Must be a number.\")\n",
    "        return next_id\n",
    "\n",
    "    # Check for duplicate\n",
    "    for student in students:\n",
    "        if student['name'].lower() == name.lower() and student['marks'] == marks:\n",
    "            print(f\"\\nA student with the same name and marks already exists (ID: {student['id']}).\")\n",
    "            confirm = input(\"Do you still want to add this student? (y/n): \").lower()\n",
    "            if confirm != 'y':\n",
    "                print(\"Student not added.\")\n",
    "                return next_id\n",
    "            break  # If confirmed, skip checking other duplicates\n",
    "\n",
    "    # Add student\n",
    "    student = {\"id\": next_id, \"name\": name, \"marks\": marks}\n",
    "    students.append(student)\n",
    "    print(\"Student added.\")\n",
    "    return next_id + 1"
   ]
  },
  {
   "cell_type": "markdown",
   "id": "8d035356-15aa-4aff-b147-538cd54a8cf7",
   "metadata": {},
   "source": [
    "### Display all students"
   ]
  },
  {
   "cell_type": "code",
   "execution_count": 13,
   "id": "e54425ac-8e21-4f47-9e9c-a3e2c2d3558a",
   "metadata": {},
   "outputs": [],
   "source": [
    "def show_students(students):\n",
    "    print(\"\\n--- Student List ---\")\n",
    "    for student in students:\n",
    "        print(f\"ID: {student['id']}, Name: {student['name']}, Marks: {student['marks']}\")"
   ]
  },
  {
   "cell_type": "markdown",
   "id": "8cac37a5-8abb-454d-97a8-095c66738aef",
   "metadata": {},
   "source": [
    "### Save to file"
   ]
  },
  {
   "cell_type": "code",
   "execution_count": 14,
   "id": "767588bf-0520-429d-8d9c-23a0420fd780",
   "metadata": {},
   "outputs": [],
   "source": [
    "def save_to_file(students):\n",
    "    with open(\"students.txt\", \"w\") as f:\n",
    "        for student in students:\n",
    "            f.write(f\"{student['id']},{student['name']},{student['marks']}\\n\")"
   ]
  },
  {
   "cell_type": "markdown",
   "id": "e8d31595-8be1-46e6-800b-fefd1bf47199",
   "metadata": {},
   "source": [
    "### Edit student details by ID"
   ]
  },
  {
   "cell_type": "code",
   "execution_count": 15,
   "id": "5146e7de-cbfb-4437-aba5-7a312b262e33",
   "metadata": {},
   "outputs": [],
   "source": [
    "def edit_student(students):\n",
    "    try:\n",
    "        student_id = int(input(\"Enter student ID to edit: \"))\n",
    "        for student in students:\n",
    "            if student['id'] == student_id:\n",
    "                print(f\"Current Name: {student['name']}, Marks: {student['marks']}\")\n",
    "                new_name = input(\"Enter new name (or press Enter to keep current): \")\n",
    "                new_marks_input = input(\"Enter new marks (or press Enter to keep current): \")\n",
    "                \n",
    "                if new_name:\n",
    "                    student['name'] = new_name\n",
    "                if new_marks_input:\n",
    "                    student['marks'] = int(new_marks_input)\n",
    "\n",
    "                print(\"Student record updated.\")\n",
    "                return\n",
    "        print(\"Student ID not found.\")\n",
    "    except ValueError:\n",
    "        print(\"Invalid input.\")"
   ]
  },
  {
   "cell_type": "markdown",
   "id": "b7344235-e044-4b91-b63f-a1d225ec324a",
   "metadata": {},
   "source": [
    "### Main program loop"
   ]
  },
  {
   "cell_type": "code",
   "execution_count": null,
   "id": "12d240b2-5668-4214-9afc-39da766c639c",
   "metadata": {},
   "outputs": [
    {
     "name": "stdout",
     "output_type": "stream",
     "text": [
      "\n",
      "1. Add Student\n",
      "2. Show Students\n",
      "3. Save to File\n",
      "4. Edit Student\n",
      "5. Exit\n"
     ]
    }
   ],
   "source": [
    "students = []\n",
    "next_id = 1  # Unique ID starts from 1\n",
    "\n",
    "while True:\n",
    "    print(\"\\n1. Add Student\")\n",
    "    print(\"2. Show Students\")\n",
    "    print(\"3. Save to File\")\n",
    "    print(\"4. Edit Student\")\n",
    "    print(\"5. Exit\")\n",
    "\n",
    "    choice = input(\"Choose an option: \")\n",
    "\n",
    "    if choice == \"1\":\n",
    "        next_id = add_student(students, next_id)\n",
    "    elif choice == \"2\":\n",
    "        show_students(students)\n",
    "    elif choice == \"3\":\n",
    "        save_to_file(students)\n",
    "        print(\"Saved to students.txt\")\n",
    "    elif choice == \"4\":\n",
    "        edit_student(students)\n",
    "    elif choice == \"5\":\n",
    "        break\n",
    "    else:\n",
    "        print(\"Invalid option.\")"
   ]
  },
  {
   "cell_type": "code",
   "execution_count": null,
   "id": "0e28dbec-7d84-48aa-9372-fa2cba499e59",
   "metadata": {},
   "outputs": [],
   "source": []
  }
 ],
 "metadata": {
  "kernelspec": {
   "display_name": "Python 3 (ipykernel)",
   "language": "python",
   "name": "python3"
  },
  "language_info": {
   "codemirror_mode": {
    "name": "ipython",
    "version": 3
   },
   "file_extension": ".py",
   "mimetype": "text/x-python",
   "name": "python",
   "nbconvert_exporter": "python",
   "pygments_lexer": "ipython3",
   "version": "3.12.6"
  }
 },
 "nbformat": 4,
 "nbformat_minor": 5
}
